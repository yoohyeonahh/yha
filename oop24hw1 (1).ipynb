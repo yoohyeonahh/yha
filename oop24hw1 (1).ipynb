{
 "cells": [
  {
   "cell_type": "markdown",
   "id": "49b2bb3f-8a94-4aba-bf67-6b97d86c0047",
   "metadata": {},
   "source": [
    "# OOP (2024 Fall) HW1: 불변 순서쌍을 활용해 가변 순서쌍 만들기 \n",
    "- 이름: 유현아\n",
    "- 학번: 20210602\n",
    "\n",
    "여기 홍길동, 99999999 대신 본인의 이름, 학번 작성"
   ]
  },
  {
   "cell_type": "markdown",
   "id": "9c3c24aa-19ac-4c88-a228-0d1686034a24",
   "metadata": {},
   "source": [
    "-----\n",
    "## Part A: 불변 순서쌍 Pair\n",
    "1. 클래스(또는 정적) 팩토리 메소드 `of`를 를 수정하여 완성하라.\n",
    "    - https://velog.io/@cjh8746/%EC%A0%95%EC%A0%81-%ED%8C%A9%ED%86%A0%EB%A6%AC-%EB%A9%94%EC%84%9C%EB%93%9CStatic-Factory-Method\n",
    "1. 주석 부분을 풀어 제너릭 클래스인 `Pair`가 제너릭 인터페이스 `Comparable`를 구현하도록 완성하라.\n",
    "    - https://docs.oracle.com/en/java/javase/22/docs/api/java.base/java/lang/Comparable.html"
   ]
  },
  {
   "cell_type": "code",
   "execution_count": 1,
   "id": "f2b4bcb7-9d9c-494a-9762-ca0700c6f762",
   "metadata": {},
   "outputs": [],
   "source": [
    "record Pair<F extends Comparable<F>, S extends Comparable<S>>(F first, S second) implements Comparable<Pair<F, S>> {\n",
    "\n",
    "    // 제너릭 메소드로 수정\n",
    "    static <F extends Comparable<F>, S extends Comparable<S>> Pair<F, S> of(F first, S second) {\n",
    "        return new Pair<>(first, second);\n",
    "    }\n",
    "\n",
    "    // 사전순으로 비교하기\n",
    "    @Override\n",
    "    public int compareTo(Pair<F, S> other) {\n",
    "        int firstCompare = this.first.compareTo(other.first);\n",
    "        if (firstCompare != 0) {\n",
    "            return firstCompare;\n",
    "        }\n",
    "        return this.second.compareTo(other.second);\n",
    "    }\n",
    "}"
   ]
  },
  {
   "cell_type": "code",
   "execution_count": 7,
   "id": "5fb5b2ac-4ac0-40cc-9f87-1675177e4baa",
   "metadata": {},
   "outputs": [
    {
     "name": "stdout",
     "output_type": "stream",
     "text": [
      "1\n",
      "-1\n",
      "0\n"
     ]
    }
   ],
   "source": [
    "/* compareTo 가 잘 동작하는지\n",
    "   - 왼쪽이 더 큰 경우\n",
    "   - 왼쪽이 더 작은 경우\n",
    "   - 같은 경우\n",
    "   이런 경우를 각각 포함하도록 이렇게 최소 3개 이상의 테스트를 실행해 보라\n",
    "*/\n",
    "\n",
    "// 대략 이런 식으로 테스트 실행\n",
    "// System.out.println( ??.compareTo(??) );\n",
    "// System.out.println( ??.compareTo(??) );\n",
    "// System.out.println( ??.compareTo(??) );\n",
    "\n",
    "// 왼쪽이 더 큰 경우 (first 값이 더 큼)\n",
    "Pair<Integer, String> pair1 = Pair.of(5, \"apple\");\n",
    "Pair<Integer, String> pair2 = Pair.of(3, \"banana\");\n",
    "System.out.println(pair1.compareTo(pair2));  // 출력: 양수 (5 > 3)\n",
    "\n",
    "// 왼쪽이 더 작은 경우 (first 값이 같고, second 값이 더 작음)\n",
    "Pair<Integer, String> pair3 = Pair.of(3, \"apple\");\n",
    "Pair<Integer, String> pair4 = Pair.of(3, \"banana\");\n",
    "System.out.println(pair3.compareTo(pair4));  // 출력: 음수 (\"apple\" < \"banana\")\n",
    "\n",
    "// 같은 경우 (first, second 모두 같음)\n",
    "Pair<Integer, String> pair5 = Pair.of(3, \"apple\");\n",
    "Pair<Integer, String> pair6 = Pair.of(3, \"apple\");\n",
    "System.out.println(pair5.compareTo(pair6));  // 출력: 0 (동일한 값)"
   ]
  },
  {
   "cell_type": "markdown",
   "id": "e2774a64-250e-4e89-a536-5a8ed42bb4ce",
   "metadata": {},
   "source": [
    "------\n",
    "## Part B: 가변 순서쌍 ModifiablePair\n",
    "\n",
    "불변 순서쌍만을 priviate 필드로 갖고 있는 가변 순서쌍 제너릭 클래스를 작성하라\n",
    "\n",
    "가변 순서쌍은 불변 순서쌍과 마찬가지 이름의 getter 메소드가 있고 추가로 setter 메소드도 있다.\n",
    "\n",
    "또, 가변 순서쌍도 불변 순서쌍과 마찬가지로 Comparable 제너릭 인터페이스를 구현하라.\n"
   ]
  },
  {
   "cell_type": "code",
   "execution_count": 22,
   "id": "38eb649f-d95e-40d8-a33b-658df4ee4a7f",
   "metadata": {},
   "outputs": [],
   "source": [
    "// Pair 클래스\n",
    "record Pair<F extends Comparable<F>, S extends Comparable<S>>(F first, S second) implements Comparable<Pair<F, S>> {\n",
    "    static <F extends Comparable<F>, S extends Comparable<S>> Pair<F, S> of(F first, S second) {\n",
    "        return new Pair<>(first, second);\n",
    "    }\n",
    "\n",
    "    @Override\n",
    "    public int compareTo(Pair<F, S> other) {\n",
    "        int firstComparison = this.first.compareTo(other.first);\n",
    "        if (firstComparison != 0) {\n",
    "            return firstComparison;\n",
    "        }\n",
    "        return this.second.compareTo(other.second);\n",
    "    }\n",
    "}\n",
    "\n",
    "// ModifiablePair 클래스\n",
    "class ModifiablePair<F extends Comparable<F>, S extends Comparable<S>> implements Comparable<ModifiablePair<F, S>> {\n",
    "    private Pair<F, S> pair;\n",
    "\n",
    "    ModifiablePair(F first, S second) {\n",
    "        this.pair = Pair.of(first, second);\n",
    "    }\n",
    "\n",
    "    public F first() {\n",
    "        return pair.first();\n",
    "    }\n",
    "\n",
    "    public S second() {\n",
    "        return pair.second();\n",
    "    }\n",
    "\n",
    "    public void setFirst(F first) {\n",
    "        this.pair = Pair.of(first, pair.second());\n",
    "    }\n",
    "\n",
    "    public void setSecond(S second) {\n",
    "        this.pair = Pair.of(pair.first(), second);\n",
    "    }\n",
    "\n",
    "    @Override\n",
    "    public int compareTo(ModifiablePair<F, S> other) {\n",
    "        int firstComparison = this.first().compareTo(other.first());\n",
    "        if (firstComparison != 0) {\n",
    "            return firstComparison; // 첫 번째 값이 다르면 그 결과를 반환\n",
    "        }\n",
    "        return this.second().compareTo(other.second()); // 첫 번째 값이 같으면 두 번째 값을 비교\n",
    "    }\n",
    "\n",
    "    @Override\n",
    "    public String toString() {\n",
    "        return pair.toString();\n",
    "    }\n",
    "}"
   ]
  },
  {
   "cell_type": "code",
   "execution_count": 18,
   "id": "57af3b33-b9db-43bd-a8e7-5b35d97aaf5e",
   "metadata": {},
   "outputs": [
    {
     "name": "stdout",
     "output_type": "stream",
     "text": [
      "1\n",
      "apple\n",
      "5\n",
      "apple\n",
      "5\n",
      "banana\n",
      "10\n",
      "cherry\n"
     ]
    }
   ],
   "source": [
    "// ModifiablePair 객체 생성 (첫 번째는 1, 두 번째는 \"apple\")\n",
    "ModifiablePair<Integer, String> modPair = new ModifiablePair<>(1, \"apple\");\n",
    "\n",
    "// 초기 값 확인 (getter 메소드)\n",
    "System.out.println(modPair.first());   // 출력: 1\n",
    "System.out.println(modPair.second());  // 출력: apple\n",
    "\n",
    "// first 값을 변경 (setter 메소드)\n",
    "modPair.setFirst(5);\n",
    "System.out.println(modPair.first());   // 출력: 5\n",
    "System.out.println(modPair.second());  // 출력: apple (변경되지 않음)\n",
    "\n",
    "// second 값을 변경 (setter 메소드)\n",
    "modPair.setSecond(\"banana\");\n",
    "System.out.println(modPair.first());   // 출력: 5 (변경되지 않음)\n",
    "System.out.println(modPair.second());  // 출력: banana\n",
    "\n",
    "// 두 번 더 수정하여 값 확인\n",
    "modPair.setFirst(10);\n",
    "modPair.setSecond(\"cherry\");\n",
    "System.out.println(modPair.first());   // 출력: 10\n",
    "System.out.println(modPair.second());  // 출력: cherry"
   ]
  },
  {
   "cell_type": "code",
   "execution_count": 24,
   "id": "e0b9e66e-d3fa-4485-b6f6-4075eca8fcf3",
   "metadata": {},
   "outputs": [
    {
     "name": "stdout",
     "output_type": "stream",
     "text": [
      "-1\n",
      "1\n",
      "-2\n",
      "0\n"
     ]
    }
   ],
   "source": [
    "/* 가변 순써상에 대해서도\n",
    "  compareTo 가 잘 동작하는지\n",
    "   - 왼쪽이 더 큰 경우\n",
    "   - 왼쪽이 더 작은 경우\n",
    "   - 같은 경우\n",
    "   이런 경우를 각각 포함하도록 이렇게 최소 3개 이상의 테스트를 실행해 보라\n",
    "*/\n",
    "ModifiablePair<Integer, String> pair1 = new ModifiablePair<>(2, \"apple\");\n",
    "ModifiablePair<Integer, String> pair2 = new ModifiablePair<>(5, \"banana\");\n",
    "ModifiablePair<Integer, String> pair3 = new ModifiablePair<>(2, \"cherry\");\n",
    "        \n",
    "        // 왼쪽이 더 작은 경우\n",
    "System.out.println(pair1.compareTo(pair2)); // 출력: -1 (2 < 5)\n",
    "        \n",
    "        // 왼쪽이 더 큰 경우\n",
    "System.out.println(pair2.compareTo(pair1)); // 출력: 1 (5 > 2)\n",
    "\n",
    "        // 같은 경우 (first가 같고 second로 비교)\n",
    "System.out.println(pair1.compareTo(pair3)); // 출력: -1 (2 == 2, \"apple\" < \"cherry\")\n",
    "\n",
    "        // second 값을 변경하여 같은 경우 확인\n",
    "pair3.setSecond(\"apple\");\n",
    "System.out.println(pair1.compareTo(pair3)); // 출력: 0 (2 == 2, \"apple\" == \"apple\")"
   ]
  }
 ],
 "metadata": {
  "kernelspec": {
   "display_name": "Java (rjk 2.1.0)",
   "language": "java",
   "name": "rapaio-jupyter-kernel"
  },
  "language_info": {
   "codemirror_mode": "java",
   "file_extension": ".jshell",
   "mimetype": "text/x-java-source",
   "name": "java",
   "nbconvert_exporter": "script",
   "pygments_lexer": "java",
   "version": "22.0.2+9"
  }
 },
 "nbformat": 4,
 "nbformat_minor": 5
}
